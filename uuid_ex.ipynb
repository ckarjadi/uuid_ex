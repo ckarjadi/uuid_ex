{
 "cells": [
  {
   "cell_type": "code",
   "execution_count": 68,
   "metadata": {},
   "outputs": [],
   "source": [
    "import uuid"
   ]
  },
  {
   "cell_type": "code",
   "execution_count": 69,
   "metadata": {},
   "outputs": [],
   "source": [
    "def generate(uuid_db):\n",
    "    \"\"\"\n",
    "    keep generating uuid until it's no longer found in the uuid_db;\n",
    "    \"\"\"\n",
    "    this_uuid = uuid.uuid4()\n",
    "    while this_uuid in uuid_db:\n",
    "        this_uuid = uuid.uuid4()\n",
    "    return this_uuid\n",
    "\n",
    "def update_uuid_db_and_return(cohort_id, uuid_db):\n",
    "    \"\"\"\n",
    "    if cohort_id doesn't have a uuid, make a new uuid and update uuid_db\n",
    "    otherwise, return the existing uuid\n",
    "    \"\"\"\n",
    "    if cohort_id not in uuid_db:\n",
    "        uuid_db[cohort_id] = generate(uuid_db)\n",
    "    return uuid_db[cohort_id]"
   ]
  },
  {
   "cell_type": "code",
   "execution_count": 70,
   "metadata": {},
   "outputs": [],
   "source": [
    "### we know existing cohort IDs and can generate UUIDs beforehand\n",
    "\n",
    "cohort_a_ids = [\"A-0000\", \"A-0001\", \"A-0002\"]\n",
    "cohort_b_ids = [\"B-0000\", \"B-0001\", \"B-0002\"]\n",
    "uuid_db = {}"
   ]
  },
  {
   "cell_type": "code",
   "execution_count": 71,
   "metadata": {},
   "outputs": [],
   "source": [
    "### for all existing cohort IDs, generate unique UUIDs\n",
    "\n",
    "all_ids = cohort_a_ids + cohort_b_ids\n",
    "for cohort_id in all_ids:\n",
    "    update_uuid_db_and_return(cohort_id, uuid_db)"
   ]
  },
  {
   "cell_type": "code",
   "execution_count": 72,
   "metadata": {},
   "outputs": [],
   "source": [
    "def print_uuid_db(uuid_db):\n",
    "    \"\"\"\n",
    "    print helper\n",
    "    \"\"\"\n",
    "    for cohort_id, uuid in uuid_db.items():\n",
    "        print(f\"local cohort id: {cohort_id}; UUID: {uuid}\")"
   ]
  },
  {
   "cell_type": "code",
   "execution_count": 73,
   "metadata": {},
   "outputs": [
    {
     "name": "stdout",
     "output_type": "stream",
     "text": [
      "local cohort id: A-0000; UUID: 1376bdc9-141b-4bc7-967c-ae390d7a55bc\n",
      "local cohort id: A-0001; UUID: f5ee4530-9608-4fb6-904c-1e402a6d8356\n",
      "local cohort id: A-0002; UUID: 39c01562-3216-47c6-a405-3e25c7237005\n",
      "local cohort id: B-0000; UUID: 8a50a21f-b650-4d3b-935d-c05b1819ae51\n",
      "local cohort id: B-0001; UUID: f3006d19-0e78-4955-9c96-af564f65b0ab\n",
      "local cohort id: B-0002; UUID: beb7ade4-23c1-4d42-a11e-2aeed63ebf7c\n"
     ]
    }
   ],
   "source": [
    "print_uuid_db(uuid_db)"
   ]
  },
  {
   "cell_type": "code",
   "execution_count": 74,
   "metadata": {},
   "outputs": [
    {
     "name": "stdout",
     "output_type": "stream",
     "text": [
      "local cohort id: A-0000; UUID: 1376bdc9-141b-4bc7-967c-ae390d7a55bc\n",
      "local cohort id: A-0001; UUID: f5ee4530-9608-4fb6-904c-1e402a6d8356\n",
      "local cohort id: A-0002; UUID: 39c01562-3216-47c6-a405-3e25c7237005\n",
      "local cohort id: B-0000; UUID: 8a50a21f-b650-4d3b-935d-c05b1819ae51\n",
      "local cohort id: B-0001; UUID: f3006d19-0e78-4955-9c96-af564f65b0ab\n",
      "local cohort id: B-0002; UUID: beb7ade4-23c1-4d42-a11e-2aeed63ebf7c\n",
      "local cohort id: C-0000; UUID: e4f41260-0d0d-4933-8e05-4821c5cbd4ce\n",
      "local cohort id: C-0001; UUID: 6f1258b1-53ae-4f1e-869d-17127f59c13f\n",
      "local cohort id: C-0002; UUID: 2208fe62-1d08-4f13-a997-338ff61f72b5\n",
      "local cohort id: A-0003; UUID: 1cff265b-8285-41fd-97e7-b5d3102d6e79\n",
      "local cohort id: B-0003; UUID: 6575af2a-1c54-4119-ad6b-c64a8b0cf102\n"
     ]
    }
   ],
   "source": [
    "### if we encounter new cohort IDs from any cohort, generate new unique UUIDs\n",
    "new_cohort_ids = [\"C-0000\", \"C-0001\", \"C-0002\", \"A-0003\", \"B-0003\"]\n",
    "for cohort_id in new_cohort_ids:\n",
    "    update_uuid_db_and_return(cohort_id, uuid_db)\n",
    "print_uuid_db(uuid_db)"
   ]
  },
  {
   "cell_type": "code",
   "execution_count": null,
   "metadata": {},
   "outputs": [],
   "source": []
  },
  {
   "cell_type": "code",
   "execution_count": null,
   "metadata": {},
   "outputs": [],
   "source": []
  }
 ],
 "metadata": {
  "kernelspec": {
   "display_name": "Python 3",
   "language": "python",
   "name": "python3"
  },
  "language_info": {
   "codemirror_mode": {
    "name": "ipython",
    "version": 3
   },
   "file_extension": ".py",
   "mimetype": "text/x-python",
   "name": "python",
   "nbconvert_exporter": "python",
   "pygments_lexer": "ipython3",
   "version": "3.6.5"
  }
 },
 "nbformat": 4,
 "nbformat_minor": 2
}
