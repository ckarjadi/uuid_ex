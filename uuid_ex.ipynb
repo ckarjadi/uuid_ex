{
 "cells": [
  {
   "cell_type": "code",
   "execution_count": 9,
   "metadata": {},
   "outputs": [],
   "source": [
    "import uuid"
   ]
  },
  {
   "cell_type": "code",
   "execution_count": 10,
   "metadata": {},
   "outputs": [],
   "source": [
    "def generate(uuid_db):\n",
    "    \"\"\"\n",
    "    keep generating uuid until it's no longer found in the uuid_db;\n",
    "    \"\"\"\n",
    "    this_uuid = uuid.uuid4()\n",
    "    while this_uuid in uuid_db:\n",
    "        this_uuid = uuid.uuid4()\n",
    "    return this_uuid"
   ]
  },
  {
   "cell_type": "code",
   "execution_count": 11,
   "metadata": {},
   "outputs": [],
   "source": [
    "cohort_a_ids = [\"A-0000\", \"A-0001\", \"A-0002\"]\n",
    "cohort_b_ids = [\"B-0000\", \"B-0001\", \"B-0002\"]\n",
    "uuid_db = {}"
   ]
  },
  {
   "cell_type": "code",
   "execution_count": 12,
   "metadata": {},
   "outputs": [],
   "source": [
    "all_ids = cohort_a_ids + cohort_b_ids\n",
    "for cohort_id in all_ids:\n",
    "    uuid_db[cohort_id] = generate(uuid_db)"
   ]
  },
  {
   "cell_type": "code",
   "execution_count": 13,
   "metadata": {},
   "outputs": [
    {
     "name": "stdout",
     "output_type": "stream",
     "text": [
      "local cohort id: A-0000; UUID: d19e7d3e-b397-44e0-8dfd-7448b4e532de\n",
      "local cohort id: A-0001; UUID: a6447a01-5268-4118-9e5a-4115a386842e\n",
      "local cohort id: A-0002; UUID: c1d5451c-b432-4fa5-b2c9-845ba124d90a\n",
      "local cohort id: B-0000; UUID: 1ac593b8-df3b-417c-89ba-8dbbcbe0bbb0\n",
      "local cohort id: B-0001; UUID: 2db05acc-21c4-4861-b331-23828a90d866\n",
      "local cohort id: B-0002; UUID: 5e3077f5-23fa-4e2f-8639-3603239d3506\n"
     ]
    }
   ],
   "source": [
    "for cohort_id, uuid in uuid_db.items():\n",
    "    print(f\"local cohort id: {cohort_id}; UUID: {uuid}\")"
   ]
  },
  {
   "cell_type": "code",
   "execution_count": null,
   "metadata": {},
   "outputs": [],
   "source": []
  }
 ],
 "metadata": {
  "kernelspec": {
   "display_name": "Python 3",
   "language": "python",
   "name": "python3"
  },
  "language_info": {
   "codemirror_mode": {
    "name": "ipython",
    "version": 3
   },
   "file_extension": ".py",
   "mimetype": "text/x-python",
   "name": "python",
   "nbconvert_exporter": "python",
   "pygments_lexer": "ipython3",
   "version": "3.6.5"
  }
 },
 "nbformat": 4,
 "nbformat_minor": 2
}
