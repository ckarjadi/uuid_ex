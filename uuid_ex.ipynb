{
 "cells": [
  {
   "cell_type": "code",
   "execution_count": 2,
   "metadata": {},
   "outputs": [],
   "source": [
    "import uuid"
   ]
  },
  {
   "cell_type": "code",
   "execution_count": 4,
   "metadata": {},
   "outputs": [],
   "source": [
    "def generate(uuid_db):\n",
    "    \"\"\"\n",
    "    keep generating uuid until it's no longer found in the uuid_db;\n",
    "    \"\"\"\n",
    "    this_uuid = uuid.uuid4()\n",
    "    while this_uuid in uuid_db:\n",
    "        this_uuid = uuid.uuid4()\n",
    "    return this_uuid"
   ]
  },
  {
   "cell_type": "code",
   "execution_count": 6,
   "metadata": {},
   "outputs": [],
   "source": [
    "cohort_a_ids = [\"A-0000\", \"A-0001\", \"A-0002\"]\n",
    "cohort_b_ids = [\"B-0000\", \"B-0001\", \"B-0002\"]\n",
    "uuid_db = {}"
   ]
  },
  {
   "cell_type": "code",
   "execution_count": null,
   "metadata": {},
   "outputs": [],
   "source": []
  }
 ],
 "metadata": {
  "kernelspec": {
   "display_name": "Python 3",
   "language": "python",
   "name": "python3"
  },
  "language_info": {
   "codemirror_mode": {
    "name": "ipython",
    "version": 3
   },
   "file_extension": ".py",
   "mimetype": "text/x-python",
   "name": "python",
   "nbconvert_exporter": "python",
   "pygments_lexer": "ipython3",
   "version": "3.6.5"
  }
 },
 "nbformat": 4,
 "nbformat_minor": 2
}
